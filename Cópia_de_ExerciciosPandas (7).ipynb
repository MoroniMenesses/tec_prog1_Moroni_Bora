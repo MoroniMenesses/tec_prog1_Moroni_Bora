{
  "cells": [
    {
      "cell_type": "markdown",
      "metadata": {
        "id": "38Xmp96OAi3Q"
      },
      "source": [
        "**Bora praticar!**\n",
        "  \n",
        "1) Utilizando o DataFrame importado (alunos3.csv) calcule a média das provas em uma nova coluna chamada (Media_provas)"
      ]
    },
    {
      "cell_type": "code",
      "execution_count": 22,
      "metadata": {
        "id": "9B2ZFAaRAi3T",
        "colab": {
          "base_uri": "https://localhost:8080/"
        },
        "outputId": "edbddb73-61ef-4320-f256-d7a69f6f3274"
      },
      "outputs": [
        {
          "output_type": "stream",
          "name": "stdout",
          "text": [
            "Index(['RA', 'Nome', 'Frequencia', 'Prova_1', 'Prova_2', 'Prova_3', 'Prova_4'], dtype='object')\n",
            "         RA             Nome  Frequencia  Prova_1  Prova_2  Prova_3  Prova_4  \\\n",
            "0  110201.0   Antonio Carlos        20.0      6.5      8.5      7.0      6.0   \n",
            "1  110212.0      Ana Beatriz        20.0      7.0      7.0      7.0      8.0   \n",
            "2  110218.0    Carlos Vernes        17.0      7.0      7.0      7.0      7.0   \n",
            "3  110307.0  Francisco Cunha        20.0      9.0      8.5      8.5     10.0   \n",
            "4  110275.0      Sandra Rosa        15.0      6.5      7.5      7.0      7.0   \n",
            "5  110281.0   Juliana Arruda        18.0      7.5      7.0      7.5      8.0   \n",
            "6  110301.0        Joao Galo        20.0      5.0      6.5      7.0      5.0   \n",
            "7  110263.0     José Valente        20.0     10.0     10.0     10.0     10.0   \n",
            "8  110271.0   Maria Ferreira        19.0      9.5      8.0      7.0     10.0   \n",
            "9  110236.0  Adriana Tavares        20.0      8.0      8.0      8.0      8.0   \n",
            "\n",
            "   media_aritmetica  \n",
            "0      18374.833333  \n",
            "1      18376.833333  \n",
            "2      18377.166667  \n",
            "3      18393.833333  \n",
            "4      18386.333333  \n",
            "5      18388.166667  \n",
            "6      18390.750000  \n",
            "7      18387.166667  \n",
            "8      18387.416667  \n",
            "9      18381.333333  \n"
          ]
        }
      ],
      "source": [
        "\n",
        "import numpy as np\n",
        "import pandas as pd\n",
        "\n",
        "alunos3=pd.read_csv('https://raw.githubusercontent.com/MoroniMenesses/tec_prog1_Moroni_Bora/main/alunos3.csv')\n",
        "print(alunos3.columns)\n",
        "def convert_float(X):\n",
        "    for i in X.columns:\n",
        "        try:\n",
        "            X[i]=X[i].astype(float)\n",
        "        except:\n",
        "            pass\n",
        "    return X\n",
        "def arrumar_str(X):\n",
        "    X=X.astype(str)\n",
        "    X=X.applymap(lambda x: x.replace(',','.'))\n",
        "    return X\n",
        "def arrumar(X):\n",
        "    X=arrumar_str(X)\n",
        "    X=convert_float(X)\n",
        "    return X\n",
        "def media_aritmetica(X):\n",
        "    colunas_tipo_float=[]\n",
        "    for i in X.columns:\n",
        "        if X[i].dtype==float:\n",
        "            colunas_tipo_float.append(i)\n",
        "    X['media_aritmetica']=X[colunas_tipo_float].apply(lambda x: x.mean(),axis=1)\n",
        "    return X\n",
        "def exercicio_pronto(X):\n",
        "    X=arrumar(X)\n",
        "    X=media_aritmetica(X)\n",
        "    return X\n",
        "alunos3=exercicio_pronto(alunos3)\n",
        "print(alunos3)"
      ]
    },
    {
      "cell_type": "markdown",
      "metadata": {
        "id": "oW2PTzz6Ai3U"
      },
      "source": [
        "2) Quem foram os alunos que obtiveram a maior e a menor média"
      ]
    },
    {
      "cell_type": "code",
      "execution_count": 23,
      "metadata": {
        "id": "JtmuK0ibAi3U",
        "colab": {
          "base_uri": "https://localhost:8080/"
        },
        "outputId": "48c3d6fc-33cb-41d2-9767-9e55f7ee9313"
      },
      "outputs": [
        {
          "output_type": "stream",
          "name": "stdout",
          "text": [
            "O aluno com maior média é Francisco Cunha e o com menor média é Antonio Carlos\n"
          ]
        }
      ],
      "source": [
        "print('O aluno com maior média é',alunos3['Nome'].iloc[alunos3['media_aritmetica'].argmax()],'e o com menor média é',alunos3['Nome'].iloc[alunos3['media_aritmetica'].argmin()])"
      ]
    },
    {
      "cell_type": "markdown",
      "metadata": {
        "id": "V6FRPtZtAi3V"
      },
      "source": [
        "3) Agora una este dataframe com o `cadastro_alunos.xlsx`"
      ]
    },
    {
      "cell_type": "code",
      "source": [
        "cadastro_alunos=pd.read_excel(r'https://raw.githubusercontent.com/MoroniMenesses/tec_prog1_Moroni_Bora/main/cadastro_alunos.xlsx',sheet_name='Planilha1')\n",
        "\n",
        "alunos3_e_cadastro_alunos=pd.merge(alunos3,cadastro_alunos,how='left',on='RA')\n",
        "print(alunos3_e_cadastro_alunos)"
      ],
      "metadata": {
        "colab": {
          "base_uri": "https://localhost:8080/"
        },
        "id": "YJ1pSoPyMJd_",
        "outputId": "fc7d55f3-a863-43fc-e0b4-5f3fddff2b7b"
      },
      "execution_count": 24,
      "outputs": [
        {
          "output_type": "stream",
          "name": "stdout",
          "text": [
            "         RA             Nome  Frequencia  Prova_1  Prova_2  Prova_3  Prova_4  \\\n",
            "0  110201.0   Antonio Carlos        20.0      6.5      8.5      7.0      6.0   \n",
            "1  110212.0      Ana Beatriz        20.0      7.0      7.0      7.0      8.0   \n",
            "2  110218.0    Carlos Vernes        17.0      7.0      7.0      7.0      7.0   \n",
            "3  110307.0  Francisco Cunha        20.0      9.0      8.5      8.5     10.0   \n",
            "4  110275.0      Sandra Rosa        15.0      6.5      7.5      7.0      7.0   \n",
            "5  110281.0   Juliana Arruda        18.0      7.5      7.0      7.5      8.0   \n",
            "6  110301.0        Joao Galo        20.0      5.0      6.5      7.0      5.0   \n",
            "7  110263.0     José Valente        20.0     10.0     10.0     10.0     10.0   \n",
            "8  110271.0   Maria Ferreira        19.0      9.5      8.0      7.0     10.0   \n",
            "9  110236.0  Adriana Tavares        20.0      8.0      8.0      8.0      8.0   \n",
            "\n",
            "   media_aritmetica          Cidade       Sexo  Idade  \n",
            "0      18374.833333       São Paulo  Masculino     15  \n",
            "1      18376.833333  Rio de Janeiro   Feminino     20  \n",
            "2      18377.166667  Rio de Janeiro  Masculino     18  \n",
            "3      18393.833333  Belo Horizonte  Masculino     39  \n",
            "4      18386.333333  Belo Horizonte   Feminino     22  \n",
            "5      18388.166667  Rio de Janeiro   Feminino     17  \n",
            "6      18390.750000  Belo Horizonte  Masculino     26  \n",
            "7      18387.166667  Belo Horizonte  Masculino     31  \n",
            "8      18387.416667       São Paulo   Feminino     29  \n",
            "9      18381.333333       São Paulo   Feminino     16  \n"
          ]
        }
      ]
    },
    {
      "cell_type": "markdown",
      "metadata": {
        "id": "K8WaV-ZcAi3V"
      },
      "source": [
        "4) Qual a média entre as Media_provas dentro do público feminino? e masculino?"
      ]
    },
    {
      "cell_type": "code",
      "execution_count": 25,
      "metadata": {
        "id": "sqqF1OdfAi3V",
        "colab": {
          "base_uri": "https://localhost:8080/"
        },
        "outputId": "b49bb475-6aa9-43e1-f4b6-3d011e3c56c1"
      },
      "outputs": [
        {
          "output_type": "stream",
          "name": "stdout",
          "text": [
            "A media das notas para o sexo feminino é de 18384.016666666666 e o a média de notas para o sexo masculino é 18384.75\n"
          ]
        }
      ],
      "source": [
        "def media_selecionada(dataframe,coluna_da_condicao,coluna_calcular_media,valor_da_condicao):\n",
        "  media_selecionada=dataframe[dataframe[coluna_da_condicao]==valor_da_condicao][coluna_calcular_media].mean()\n",
        "  return media_selecionada\n",
        "media_feminino=media_selecionada(alunos3_e_cadastro_alunos,'Sexo','media_aritmetica','Feminino')\n",
        "media_masculino=media_selecionada(alunos3_e_cadastro_alunos,'Sexo','media_aritmetica','Masculino')\n",
        "print('A media das notas para o sexo feminino é de',media_feminino,'e o a média de notas para o sexo masculino é',media_masculino)"
      ]
    },
    {
      "cell_type": "markdown",
      "metadata": {
        "id": "8gYQlJg8Ai3V"
      },
      "source": [
        "5) Qual a média de idade das pessoas que obtiveram Media_provas maior ou igual a 7?"
      ]
    },
    {
      "cell_type": "code",
      "execution_count": 26,
      "metadata": {
        "id": "VYdg_NAIAi3W",
        "colab": {
          "base_uri": "https://localhost:8080/"
        },
        "outputId": "959a69c2-5dbc-4ae7-eb76-0e21b8a205ec"
      },
      "outputs": [
        {
          "output_type": "stream",
          "name": "stdout",
          "text": [
            "23.3\n"
          ]
        }
      ],
      "source": [
        "def media_selecionada_demaior(dataframe,coluna_da_condicao,coluna_calcular_media,valor_da_condicao):\n",
        "  media_selecionada=dataframe[dataframe[coluna_da_condicao]>=valor_da_condicao][coluna_calcular_media].mean()\n",
        "  return media_selecionada\n",
        "media_idade_notas_maiores_que_7=media_selecionada_demaior(alunos3_e_cadastro_alunos,'media_aritmetica','Idade',7)\n",
        "\n",
        "print(media_idade_notas_maiores_que_7)"
      ]
    },
    {
      "cell_type": "markdown",
      "metadata": {
        "id": "G6n1wW9sAi3W"
      },
      "source": [
        "6) Qual das cidades possui o maior média de Media_provas? E qual é este valor?"
      ]
    },
    {
      "cell_type": "code",
      "execution_count": 27,
      "metadata": {
        "id": "p1uyO7q8Ai3W",
        "colab": {
          "base_uri": "https://localhost:8080/",
          "height": 175
        },
        "outputId": "295e0cf0-7a2b-45fa-ca37-289b1769088d"
      },
      "outputs": [
        {
          "output_type": "execute_result",
          "data": {
            "text/plain": [
              "                      RA  Frequencia   Prova_1   Prova_2   Prova_3   Prova_4  \\\n",
              "Cidade                                                                         \n",
              "Belo Horizonte  110286.5   18.750000  7.625000  8.125000  8.125000  8.000000   \n",
              "Rio de Janeiro  110237.0   18.333333  7.166667  7.000000  7.166667  7.666667   \n",
              "São Paulo       110236.0   19.666667  8.000000  8.166667  7.333333  8.000000   \n",
              "\n",
              "                media_aritmetica      Idade  \n",
              "Cidade                                       \n",
              "Belo Horizonte      18389.520833  29.500000  \n",
              "Rio de Janeiro      18380.722222  18.333333  \n",
              "São Paulo           18381.194444  20.000000  "
            ],
            "text/html": [
              "\n",
              "  <div id=\"df-c8ade880-f033-4282-9e7c-039495d1098c\">\n",
              "    <div class=\"colab-df-container\">\n",
              "      <div>\n",
              "<style scoped>\n",
              "    .dataframe tbody tr th:only-of-type {\n",
              "        vertical-align: middle;\n",
              "    }\n",
              "\n",
              "    .dataframe tbody tr th {\n",
              "        vertical-align: top;\n",
              "    }\n",
              "\n",
              "    .dataframe thead th {\n",
              "        text-align: right;\n",
              "    }\n",
              "</style>\n",
              "<table border=\"1\" class=\"dataframe\">\n",
              "  <thead>\n",
              "    <tr style=\"text-align: right;\">\n",
              "      <th></th>\n",
              "      <th>RA</th>\n",
              "      <th>Frequencia</th>\n",
              "      <th>Prova_1</th>\n",
              "      <th>Prova_2</th>\n",
              "      <th>Prova_3</th>\n",
              "      <th>Prova_4</th>\n",
              "      <th>media_aritmetica</th>\n",
              "      <th>Idade</th>\n",
              "    </tr>\n",
              "    <tr>\n",
              "      <th>Cidade</th>\n",
              "      <th></th>\n",
              "      <th></th>\n",
              "      <th></th>\n",
              "      <th></th>\n",
              "      <th></th>\n",
              "      <th></th>\n",
              "      <th></th>\n",
              "      <th></th>\n",
              "    </tr>\n",
              "  </thead>\n",
              "  <tbody>\n",
              "    <tr>\n",
              "      <th>Belo Horizonte</th>\n",
              "      <td>110286.5</td>\n",
              "      <td>18.750000</td>\n",
              "      <td>7.625000</td>\n",
              "      <td>8.125000</td>\n",
              "      <td>8.125000</td>\n",
              "      <td>8.000000</td>\n",
              "      <td>18389.520833</td>\n",
              "      <td>29.500000</td>\n",
              "    </tr>\n",
              "    <tr>\n",
              "      <th>Rio de Janeiro</th>\n",
              "      <td>110237.0</td>\n",
              "      <td>18.333333</td>\n",
              "      <td>7.166667</td>\n",
              "      <td>7.000000</td>\n",
              "      <td>7.166667</td>\n",
              "      <td>7.666667</td>\n",
              "      <td>18380.722222</td>\n",
              "      <td>18.333333</td>\n",
              "    </tr>\n",
              "    <tr>\n",
              "      <th>São Paulo</th>\n",
              "      <td>110236.0</td>\n",
              "      <td>19.666667</td>\n",
              "      <td>8.000000</td>\n",
              "      <td>8.166667</td>\n",
              "      <td>7.333333</td>\n",
              "      <td>8.000000</td>\n",
              "      <td>18381.194444</td>\n",
              "      <td>20.000000</td>\n",
              "    </tr>\n",
              "  </tbody>\n",
              "</table>\n",
              "</div>\n",
              "      <button class=\"colab-df-convert\" onclick=\"convertToInteractive('df-c8ade880-f033-4282-9e7c-039495d1098c')\"\n",
              "              title=\"Convert this dataframe to an interactive table.\"\n",
              "              style=\"display:none;\">\n",
              "        \n",
              "  <svg xmlns=\"http://www.w3.org/2000/svg\" height=\"24px\"viewBox=\"0 0 24 24\"\n",
              "       width=\"24px\">\n",
              "    <path d=\"M0 0h24v24H0V0z\" fill=\"none\"/>\n",
              "    <path d=\"M18.56 5.44l.94 2.06.94-2.06 2.06-.94-2.06-.94-.94-2.06-.94 2.06-2.06.94zm-11 1L8.5 8.5l.94-2.06 2.06-.94-2.06-.94L8.5 2.5l-.94 2.06-2.06.94zm10 10l.94 2.06.94-2.06 2.06-.94-2.06-.94-.94-2.06-.94 2.06-2.06.94z\"/><path d=\"M17.41 7.96l-1.37-1.37c-.4-.4-.92-.59-1.43-.59-.52 0-1.04.2-1.43.59L10.3 9.45l-7.72 7.72c-.78.78-.78 2.05 0 2.83L4 21.41c.39.39.9.59 1.41.59.51 0 1.02-.2 1.41-.59l7.78-7.78 2.81-2.81c.8-.78.8-2.07 0-2.86zM5.41 20L4 18.59l7.72-7.72 1.47 1.35L5.41 20z\"/>\n",
              "  </svg>\n",
              "      </button>\n",
              "      \n",
              "  <style>\n",
              "    .colab-df-container {\n",
              "      display:flex;\n",
              "      flex-wrap:wrap;\n",
              "      gap: 12px;\n",
              "    }\n",
              "\n",
              "    .colab-df-convert {\n",
              "      background-color: #E8F0FE;\n",
              "      border: none;\n",
              "      border-radius: 50%;\n",
              "      cursor: pointer;\n",
              "      display: none;\n",
              "      fill: #1967D2;\n",
              "      height: 32px;\n",
              "      padding: 0 0 0 0;\n",
              "      width: 32px;\n",
              "    }\n",
              "\n",
              "    .colab-df-convert:hover {\n",
              "      background-color: #E2EBFA;\n",
              "      box-shadow: 0px 1px 2px rgba(60, 64, 67, 0.3), 0px 1px 3px 1px rgba(60, 64, 67, 0.15);\n",
              "      fill: #174EA6;\n",
              "    }\n",
              "\n",
              "    [theme=dark] .colab-df-convert {\n",
              "      background-color: #3B4455;\n",
              "      fill: #D2E3FC;\n",
              "    }\n",
              "\n",
              "    [theme=dark] .colab-df-convert:hover {\n",
              "      background-color: #434B5C;\n",
              "      box-shadow: 0px 1px 3px 1px rgba(0, 0, 0, 0.15);\n",
              "      filter: drop-shadow(0px 1px 2px rgba(0, 0, 0, 0.3));\n",
              "      fill: #FFFFFF;\n",
              "    }\n",
              "  </style>\n",
              "\n",
              "      <script>\n",
              "        const buttonEl =\n",
              "          document.querySelector('#df-c8ade880-f033-4282-9e7c-039495d1098c button.colab-df-convert');\n",
              "        buttonEl.style.display =\n",
              "          google.colab.kernel.accessAllowed ? 'block' : 'none';\n",
              "\n",
              "        async function convertToInteractive(key) {\n",
              "          const element = document.querySelector('#df-c8ade880-f033-4282-9e7c-039495d1098c');\n",
              "          const dataTable =\n",
              "            await google.colab.kernel.invokeFunction('convertToInteractive',\n",
              "                                                     [key], {});\n",
              "          if (!dataTable) return;\n",
              "\n",
              "          const docLinkHtml = 'Like what you see? Visit the ' +\n",
              "            '<a target=\"_blank\" href=https://colab.research.google.com/notebooks/data_table.ipynb>data table notebook</a>'\n",
              "            + ' to learn more about interactive tables.';\n",
              "          element.innerHTML = '';\n",
              "          dataTable['output_type'] = 'display_data';\n",
              "          await google.colab.output.renderOutput(dataTable, element);\n",
              "          const docLink = document.createElement('div');\n",
              "          docLink.innerHTML = docLinkHtml;\n",
              "          element.appendChild(docLink);\n",
              "        }\n",
              "      </script>\n",
              "    </div>\n",
              "  </div>\n",
              "  "
            ]
          },
          "metadata": {},
          "execution_count": 27
        }
      ],
      "source": [
        "alunos3_e_cadastro_alunos.groupby(['Cidade'],sort=True).mean()"
      ]
    },
    {
      "cell_type": "markdown",
      "metadata": {
        "id": "Id8lWHGpAi3X"
      },
      "source": [
        "7. Leia o arquivo `aluno3.csv`, apenas as colunas RA, Prova_1, Prova_2, Prova_3, Prova_4 calcule a médias das notas da prova e salve em um arquivo excel (xlsx) as colunas RA e Média.\n"
      ]
    },
    {
      "cell_type": "code",
      "execution_count": 28,
      "metadata": {
        "id": "3pbqCePaAi3X"
      },
      "outputs": [],
      "source": [
        "alunos3_lido_de_volta=pd.read_csv('https://raw.githubusercontent.com/MoroniMenesses/tec_prog1_Moroni_Bora/main/alunos3.csv')[['RA','Prova_1','Prova_2','Prova_3','Prova_4']]\n",
        "\n",
        "exercicio_pronto_dataframe=exercicio_pronto(alunos3_lido_de_volta)[['RA','media_aritmetica']]\n",
        "\n",
        "\n",
        "\n",
        "\n",
        "exercicio_pronto_dataframe.to_excel(r'/content/arquivo_excel.xlsx',sheet_name='Planilha1')"
      ]
    },
    {
      "cell_type": "markdown",
      "source": [],
      "metadata": {
        "id": "IoXl9PWv72vL"
      }
    }
  ],
  "metadata": {
    "kernelspec": {
      "display_name": "SUZANO-TECPROG1",
      "language": "python",
      "name": "python3"
    },
    "language_info": {
      "codemirror_mode": {
        "name": "ipython",
        "version": 3
      },
      "file_extension": ".py",
      "mimetype": "text/x-python",
      "name": "python",
      "nbconvert_exporter": "python",
      "pygments_lexer": "ipython3",
      "version": "3.10.6"
    },
    "orig_nbformat": 4,
    "vscode": {
      "interpreter": {
        "hash": "38d4061a99e7c6638a090ce08c14a66640e6088dc5ef74a7f33c8fdd952ca81d"
      }
    },
    "colab": {
      "provenance": []
    }
  },
  "nbformat": 4,
  "nbformat_minor": 0
}